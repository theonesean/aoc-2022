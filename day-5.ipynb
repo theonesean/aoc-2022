{
 "cells": [
  {
   "cell_type": "code",
   "execution_count": 25,
   "metadata": {},
   "outputs": [],
   "source": [
    "import copy"
   ]
  },
  {
   "cell_type": "markdown",
   "metadata": {},
   "source": [
    "# Advent of Code: Day 5\n",
    "\n",
    "Track the top box through a set of moves. Boxes move one at a time.\n",
    "\n",
    "Original position of boxes:"
   ]
  },
  {
   "cell_type": "raw",
   "metadata": {},
   "source": [
    "    [H]         [D]     [P]        \n",
    "[W] [B]         [C] [Z] [D]        \n",
    "[T] [J]     [T] [J] [D] [J]        \n",
    "[H] [Z]     [H] [H] [W] [S]     [M]\n",
    "[P] [F] [R] [P] [Z] [F] [W]     [F]\n",
    "[J] [V] [T] [N] [F] [G] [Z] [S] [S]\n",
    "[C] [R] [P] [S] [V] [M] [V] [D] [Z]\n",
    "[F] [G] [H] [Z] [N] [P] [M] [N] [D]\n",
    " 1   2   3   4   5   6   7   8   9 "
   ]
  },
  {
   "cell_type": "code",
   "execution_count": 24,
   "metadata": {},
   "outputs": [],
   "source": [
    "init_boxes = [\n",
    "    [], # blank 0-index\n",
    "    ['W', 'T', 'H', 'P', 'J', 'C', 'F'],\n",
    "    ['H', 'B', 'J', 'Z', 'F', 'V', 'R', 'G'],\n",
    "    ['R', 'T', 'P', 'H'],\n",
    "    ['T','H','P','N','S','Z'],\n",
    "    ['D','C','J','H','Z','F','V','N'],\n",
    "    ['Z','D','W','F','G','M','P'],\n",
    "    ['P','D','J','S','W','Z','V','M'],\n",
    "    ['S', 'D', 'N'],\n",
    "    ['M','F','S','Z','D']\n",
    "]\n",
    "\n",
    "for box in init_boxes:\n",
    "    box.reverse()"
   ]
  },
  {
   "cell_type": "code",
   "execution_count": 4,
   "metadata": {},
   "outputs": [
    {
     "data": {
      "text/plain": [
       "'move 2 from 8 to 2'"
      ]
     },
     "execution_count": 4,
     "metadata": {},
     "output_type": "execute_result"
    }
   ],
   "source": [
    "with open('input/5.txt') as infile:\n",
    "    lines = infile.read().splitlines()\n",
    "\n",
    "lines[0]"
   ]
  },
  {
   "cell_type": "code",
   "execution_count": 6,
   "metadata": {},
   "outputs": [
    {
     "data": {
      "text/plain": [
       "['move', '2', 'from', '8', 'to', '2']"
      ]
     },
     "execution_count": 6,
     "metadata": {},
     "output_type": "execute_result"
    }
   ],
   "source": [
    "lines[0].split(' ')"
   ]
  },
  {
   "cell_type": "code",
   "execution_count": 11,
   "metadata": {},
   "outputs": [],
   "source": [
    "def convert_line(line):\n",
    "    ret = {}\n",
    "    x = line.split(' ')\n",
    "    ret['num'] = int(x[1])\n",
    "    ret['from'] = int(x[3])\n",
    "    ret['to'] = int(x[5])\n",
    "    return ret"
   ]
  },
  {
   "cell_type": "code",
   "execution_count": 12,
   "metadata": {},
   "outputs": [
    {
     "data": {
      "text/plain": [
       "{'num': 2, 'from': 8, 'to': 2}"
      ]
     },
     "execution_count": 12,
     "metadata": {},
     "output_type": "execute_result"
    }
   ],
   "source": [
    "moves = [convert_line(l) for l in lines]\n",
    "moves[0]"
   ]
  },
  {
   "cell_type": "code",
   "execution_count": 28,
   "metadata": {},
   "outputs": [],
   "source": [
    "debug = False"
   ]
  },
  {
   "cell_type": "code",
   "execution_count": 34,
   "metadata": {},
   "outputs": [],
   "source": [
    "boxes = copy.deepcopy(init_boxes)\n",
    "\n",
    "for m in moves:\n",
    "    for i in range(0, m['num']):\n",
    "        if debug:\n",
    "            print('m', m)\n",
    "            print('from', boxes[m['from']])\n",
    "            print('to', boxes[m['to']])\n",
    "        tmp = boxes[m['from']].pop()\n",
    "        boxes[m['to']].append(tmp)"
   ]
  },
  {
   "cell_type": "code",
   "execution_count": 35,
   "metadata": {},
   "outputs": [
    {
     "name": "stdout",
     "output_type": "stream",
     "text": [
      "S\n",
      "P\n",
      "F\n",
      "M\n",
      "V\n",
      "D\n",
      "T\n",
      "Z\n",
      "T\n"
     ]
    }
   ],
   "source": [
    "for box in boxes:\n",
    "    try:\n",
    "        print(box.pop())\n",
    "    except:\n",
    "        pass"
   ]
  },
  {
   "cell_type": "markdown",
   "metadata": {},
   "source": [
    "## Part Two\n",
    "\n",
    "Crates move in chunks, not one at a time."
   ]
  },
  {
   "cell_type": "code",
   "execution_count": 53,
   "metadata": {},
   "outputs": [],
   "source": [
    "debug = False"
   ]
  },
  {
   "cell_type": "code",
   "execution_count": 55,
   "metadata": {},
   "outputs": [],
   "source": [
    "boxes_dos = copy.deepcopy(init_boxes)\n",
    "\n",
    "for b in boxes_dos:\n",
    "    b.reverse()\n",
    "\n",
    "if debug:\n",
    "    print(boxes_dos)\n",
    "\n",
    "for m in moves:\n",
    "    if debug:\n",
    "        print('m', m)\n",
    "        print('from', boxes_dos[m['from']])\n",
    "        print('to', boxes_dos[m['to']])\n",
    "\n",
    "    tmp = boxes_dos[m['from']][:m['num']]\n",
    "\n",
    "    if debug:\n",
    "        print('tmp', tmp)\n",
    "\n",
    "    boxes_dos[m['from']] = boxes_dos[m['from']][m['num']:]\n",
    "    boxes_dos[m['to']] = tmp + boxes_dos[m['to']]\n",
    "\n",
    "    if debug:\n",
    "            print('from, after', boxes_dos[m['from']])\n",
    "            print('to, after', boxes_dos[m['to']])"
   ]
  },
  {
   "cell_type": "code",
   "execution_count": 56,
   "metadata": {},
   "outputs": [
    {
     "name": "stdout",
     "output_type": "stream",
     "text": [
      "Z\n",
      "F\n",
      "S\n",
      "J\n",
      "B\n",
      "P\n",
      "R\n",
      "F\n",
      "P\n"
     ]
    }
   ],
   "source": [
    "for b in boxes_dos:\n",
    "    try:\n",
    "        print(b[0])\n",
    "    except:\n",
    "        pass"
   ]
  },
  {
   "cell_type": "code",
   "execution_count": null,
   "metadata": {},
   "outputs": [],
   "source": []
  }
 ],
 "metadata": {
  "kernelspec": {
   "display_name": "Python 3.8.10 64-bit",
   "language": "python",
   "name": "python3"
  },
  "language_info": {
   "codemirror_mode": {
    "name": "ipython",
    "version": 3
   },
   "file_extension": ".py",
   "mimetype": "text/x-python",
   "name": "python",
   "nbconvert_exporter": "python",
   "pygments_lexer": "ipython3",
   "version": "3.8.10"
  },
  "orig_nbformat": 4,
  "vscode": {
   "interpreter": {
    "hash": "916dbcbb3f70747c44a77c7bcd40155683ae19c65e1c03b4aa3499c5328201f1"
   }
  }
 },
 "nbformat": 4,
 "nbformat_minor": 2
}
