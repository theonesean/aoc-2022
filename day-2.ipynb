{
 "cells": [
  {
   "cell_type": "code",
   "execution_count": null,
   "metadata": {},
   "outputs": [],
   "source": []
  },
  {
   "cell_type": "markdown",
   "metadata": {},
   "source": [
    "# Advent of Code: Day 2\n",
    "\n",
    "Calculate my Rock Paper Scissors score given an encrypted input.\n",
    "\n",
    "The input is a set of lines with two characters separated by a space. \n",
    "\n",
    "The first character is my opponent's move: A for rock, B for paper, C for scissors.\n",
    "\n",
    "The second character is my recommended move: X for rock, Y for paper, Z for scissors."
   ]
  },
  {
   "cell_type": "code",
   "execution_count": 1,
   "metadata": {},
   "outputs": [
    {
     "data": {
      "text/plain": [
       "2500"
      ]
     },
     "execution_count": 1,
     "metadata": {},
     "output_type": "execute_result"
    }
   ],
   "source": [
    "with open('input/2.txt') as infile:\n",
    "    lines = infile.read().splitlines()\n",
    "\n",
    "rounds = [l.split(' ') for l in lines]\n",
    "len(rounds)"
   ]
  },
  {
   "cell_type": "code",
   "execution_count": 2,
   "metadata": {},
   "outputs": [
    {
     "data": {
      "text/plain": [
       "['C', 'Y']"
      ]
     },
     "execution_count": 2,
     "metadata": {},
     "output_type": "execute_result"
    }
   ],
   "source": [
    "rounds[0]"
   ]
  },
  {
   "cell_type": "markdown",
   "metadata": {},
   "source": [
    "The score for a single round is the score for the shape you selected (1 for Rock, 2 for Paper, and 3 for Scissors) plus the score for the outcome of the round (0 if you lost, 3 if the round was a draw, and 6 if you won)."
   ]
  },
  {
   "cell_type": "code",
   "execution_count": 5,
   "metadata": {},
   "outputs": [],
   "source": [
    "def score_round(r):\n",
    "    score = 0\n",
    "    # shape score\n",
    "    if r[1] == 'X':\n",
    "        score += 1\n",
    "    elif r[1] == 'Y':\n",
    "        score += 2\n",
    "    elif r[1] == 'Z':\n",
    "        score += 3\n",
    "    # outcome score\n",
    "    if r[0] == 'A' and r[1] == 'X' or r[0] == 'B' and r[1] == 'Y' or r[0] == 'C' and r[1] == 'Z':\n",
    "        # draw\n",
    "        score += 3\n",
    "    elif r[0] == 'A' and r[1] == 'Y' or r[0] == 'B' and r[1] == 'Z' or r[0] == 'C' and r[1] == 'X':\n",
    "        # win\n",
    "        score += 6\n",
    "    return score\n",
    "    "
   ]
  },
  {
   "cell_type": "code",
   "execution_count": 6,
   "metadata": {},
   "outputs": [
    {
     "data": {
      "text/plain": [
       "2"
      ]
     },
     "execution_count": 6,
     "metadata": {},
     "output_type": "execute_result"
    }
   ],
   "source": [
    "scores = [score_round(r) for r in rounds]\n",
    "scores[0]"
   ]
  },
  {
   "cell_type": "code",
   "execution_count": 7,
   "metadata": {},
   "outputs": [
    {
     "data": {
      "text/plain": [
       "10718"
      ]
     },
     "execution_count": 7,
     "metadata": {},
     "output_type": "execute_result"
    }
   ],
   "source": [
    "sum(scores)"
   ]
  },
  {
   "cell_type": "markdown",
   "metadata": {},
   "source": [
    "## Part Two\n",
    "\n",
    "Actually, the second column says how the round needs to end: X means you need to lose, Y means you need to end the round in a draw, and Z means you need to win."
   ]
  },
  {
   "cell_type": "code",
   "execution_count": 10,
   "metadata": {},
   "outputs": [],
   "source": [
    "def score_round_again(r):\n",
    "    score = 0\n",
    "    if r[1] == 'X':\n",
    "        # i need to lose\n",
    "        if r[0] == 'A':   # they play rock\n",
    "            my_move = 'Z' # i play scissors\n",
    "        elif r[0] == 'B': # they play paper\n",
    "            my_move = 'X' # i play rock\n",
    "        elif r[0] == 'C': # they play scissors\n",
    "            my_move = 'Y' # i play paper\n",
    "    elif r[1] == 'Y':\n",
    "        # i need to draw\n",
    "        if r[0] == 'A':   # they play rock\n",
    "            my_move = 'X' # i play rock\n",
    "        elif r[0] == 'B': # they play paper\n",
    "            my_move = 'Y' # i play paper\n",
    "        elif r[0] == 'C': # they play scissors\n",
    "            my_move = 'Z' # i play scissors\n",
    "    elif r[1] == 'Z':\n",
    "        # i need to win\n",
    "        if r[0] == 'A':   # they play rock\n",
    "            my_move = 'Y' # i play paper\n",
    "        elif r[0] == 'B': # they play paper\n",
    "            my_move = 'Z' # i play scissors\n",
    "        elif r[0] == 'C': # they play scissors\n",
    "            my_move = 'X' # i play rock\n",
    "    return score_round([r[0], my_move])"
   ]
  },
  {
   "cell_type": "code",
   "execution_count": 11,
   "metadata": {},
   "outputs": [
    {
     "data": {
      "text/plain": [
       "6"
      ]
     },
     "execution_count": 11,
     "metadata": {},
     "output_type": "execute_result"
    }
   ],
   "source": [
    "new_scores = [score_round_again(r) for r in rounds]\n",
    "new_scores[0]"
   ]
  },
  {
   "cell_type": "code",
   "execution_count": 12,
   "metadata": {},
   "outputs": [
    {
     "data": {
      "text/plain": [
       "14652"
      ]
     },
     "execution_count": 12,
     "metadata": {},
     "output_type": "execute_result"
    }
   ],
   "source": [
    "sum(new_scores)"
   ]
  }
 ],
 "metadata": {
  "kernelspec": {
   "display_name": "Python 3.8.10 64-bit",
   "language": "python",
   "name": "python3"
  },
  "language_info": {
   "codemirror_mode": {
    "name": "ipython",
    "version": 3
   },
   "file_extension": ".py",
   "mimetype": "text/x-python",
   "name": "python",
   "nbconvert_exporter": "python",
   "pygments_lexer": "ipython3",
   "version": "3.8.10"
  },
  "orig_nbformat": 4,
  "vscode": {
   "interpreter": {
    "hash": "916dbcbb3f70747c44a77c7bcd40155683ae19c65e1c03b4aa3499c5328201f1"
   }
  }
 },
 "nbformat": 4,
 "nbformat_minor": 2
}
